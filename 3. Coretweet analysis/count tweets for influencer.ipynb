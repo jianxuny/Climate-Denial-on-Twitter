{
 "cells": [
  {
   "cell_type": "code",
   "execution_count": 2,
   "id": "vanilla-dover",
   "metadata": {},
   "outputs": [],
   "source": [
    "import json_lines\n",
    "import pandas as pd\n",
    "import pickle\n",
    "import numpy as np\n",
    "\n",
    "\n",
    "import datetime\n",
    "\n",
    "import geopandas\n",
    "import geopy"
   ]
  },
  {
   "cell_type": "code",
   "execution_count": 3,
   "id": "patient-angola",
   "metadata": {},
   "outputs": [
    {
     "ename": "NameError",
     "evalue": "name 'load_jsonl' is not defined",
     "output_type": "error",
     "traceback": [
      "\u001b[1;31m---------------------------------------------------------------------------\u001b[0m",
      "\u001b[1;31mNameError\u001b[0m                                 Traceback (most recent call last)",
      "\u001b[1;32m<ipython-input-3-0688c51d68cf>\u001b[0m in \u001b[0;36m<module>\u001b[1;34m\u001b[0m\n\u001b[0;32m      1\u001b[0m \u001b[1;32mfor\u001b[0m \u001b[0mi\u001b[0m \u001b[1;32min\u001b[0m \u001b[0mrange\u001b[0m\u001b[1;33m(\u001b[0m\u001b[1;36m0\u001b[0m\u001b[1;33m,\u001b[0m\u001b[1;36m4\u001b[0m\u001b[1;33m)\u001b[0m\u001b[1;33m:\u001b[0m\u001b[1;33m\u001b[0m\u001b[1;33m\u001b[0m\u001b[0m\n\u001b[0;32m      2\u001b[0m \u001b[1;33m\u001b[0m\u001b[0m\n\u001b[1;32m----> 3\u001b[1;33m     \u001b[0mtweets\u001b[0m \u001b[1;33m=\u001b[0m \u001b[0mload_jsonl\u001b[0m\u001b[1;33m(\u001b[0m\u001b[1;34mr\"D:\\twarc\\climatetweetID\\hydratefile\\climate_id_0%d.jsonl\"\u001b[0m \u001b[1;33m%\u001b[0m \u001b[1;33m(\u001b[0m\u001b[0mi\u001b[0m\u001b[1;33m)\u001b[0m\u001b[1;33m)\u001b[0m\u001b[1;33m\u001b[0m\u001b[1;33m\u001b[0m\u001b[0m\n\u001b[0m\u001b[0;32m      4\u001b[0m     \u001b[0mpdtweet\u001b[0m \u001b[1;33m=\u001b[0m \u001b[0mpd\u001b[0m\u001b[1;33m.\u001b[0m\u001b[0mDataFrame\u001b[0m\u001b[1;33m(\u001b[0m\u001b[0mtweets\u001b[0m\u001b[1;33m)\u001b[0m\u001b[1;33m\u001b[0m\u001b[1;33m\u001b[0m\u001b[0m\n",
      "\u001b[1;31mNameError\u001b[0m: name 'load_jsonl' is not defined"
     ]
    }
   ],
   "source": [
    "for i in range(0,4):\n",
    "    \n",
    "    tweets = load_jsonl(r\"D:\\twarc\\climatetweetID\\hydratefile\\climate_id_0%d.jsonl\" % (i))\n",
    "    pdtweet = pd.DataFrame(tweets)"
   ]
  },
  {
   "cell_type": "code",
   "execution_count": 4,
   "id": "suburban-gospel",
   "metadata": {},
   "outputs": [],
   "source": [
    "# Define function to extract tweet and retweet information\n",
    "\n",
    "def load_jsonl(file):\n",
    "    tweets = []\n",
    "    with open(file, 'rb') as f:\n",
    "        for tweet in json_lines.reader(f, broken=True):             \n",
    "            reduced_tweet = {'username': tweet['user']['screen_name'],\n",
    "                             'tweet_id': tweet['id_str'],\n",
    "                             'retweet_count' : tweet['retweet_count'],               \n",
    "                             'like_count'    : tweet['favorite_count']}\n",
    "            tweets.append(reduced_tweet)            \n",
    "        return (tweets)"
   ]
  },
  {
   "cell_type": "code",
   "execution_count": 11,
   "id": "discrete-forum",
   "metadata": {},
   "outputs": [
    {
     "name": "stdout",
     "output_type": "stream",
     "text": [
      "0\n",
      "1\n",
      "2\n",
      "3\n"
     ]
    }
   ],
   "source": [
    "for i in range(0,4):    \n",
    "    tweets = load_jsonl(r\"D:\\twarc\\climatetweetID\\hydratefile\\climate_id_0%d.jsonl\" % (i))\n",
    "    pdtweet = pd.DataFrame(tweets)\n",
    "    pdtweet.to_csv(r\"D:\\twarc\\climatetweetID\\tweets_prediction\\influence\\allusers_info\\output_2\\counttweets_%d.csv\" % (i))\n",
    "    print(i)"
   ]
  },
  {
   "cell_type": "code",
   "execution_count": 9,
   "id": "worst-league",
   "metadata": {},
   "outputs": [
    {
     "data": {
      "text/html": [
       "<div>\n",
       "<style scoped>\n",
       "    .dataframe tbody tr th:only-of-type {\n",
       "        vertical-align: middle;\n",
       "    }\n",
       "\n",
       "    .dataframe tbody tr th {\n",
       "        vertical-align: top;\n",
       "    }\n",
       "\n",
       "    .dataframe thead th {\n",
       "        text-align: right;\n",
       "    }\n",
       "</style>\n",
       "<table border=\"1\" class=\"dataframe\">\n",
       "  <thead>\n",
       "    <tr style=\"text-align: right;\">\n",
       "      <th></th>\n",
       "      <th>username</th>\n",
       "      <th>tweet_id</th>\n",
       "      <th>retweet_count</th>\n",
       "      <th>like_count</th>\n",
       "    </tr>\n",
       "  </thead>\n",
       "  <tbody>\n",
       "    <tr>\n",
       "      <th>0</th>\n",
       "      <td>MomMomHolt</td>\n",
       "      <td>951215126044205056</td>\n",
       "      <td>23</td>\n",
       "      <td>0</td>\n",
       "    </tr>\n",
       "    <tr>\n",
       "      <th>1</th>\n",
       "      <td>zkisor14</td>\n",
       "      <td>951215320831811584</td>\n",
       "      <td>0</td>\n",
       "      <td>0</td>\n",
       "    </tr>\n",
       "    <tr>\n",
       "      <th>2</th>\n",
       "      <td>NeroliRoocke</td>\n",
       "      <td>951215148739391488</td>\n",
       "      <td>256</td>\n",
       "      <td>0</td>\n",
       "    </tr>\n",
       "    <tr>\n",
       "      <th>3</th>\n",
       "      <td>therockyfiles</td>\n",
       "      <td>951215238128504841</td>\n",
       "      <td>0</td>\n",
       "      <td>0</td>\n",
       "    </tr>\n",
       "    <tr>\n",
       "      <th>4</th>\n",
       "      <td>JillK1964</td>\n",
       "      <td>951215308026638343</td>\n",
       "      <td>421</td>\n",
       "      <td>0</td>\n",
       "    </tr>\n",
       "    <tr>\n",
       "      <th>...</th>\n",
       "      <td>...</td>\n",
       "      <td>...</td>\n",
       "      <td>...</td>\n",
       "      <td>...</td>\n",
       "    </tr>\n",
       "    <tr>\n",
       "      <th>6729393</th>\n",
       "      <td>EricaDoporto</td>\n",
       "      <td>922515695526653952</td>\n",
       "      <td>354</td>\n",
       "      <td>0</td>\n",
       "    </tr>\n",
       "    <tr>\n",
       "      <th>6729394</th>\n",
       "      <td>5_2blue</td>\n",
       "      <td>922515693840556032</td>\n",
       "      <td>10</td>\n",
       "      <td>8</td>\n",
       "    </tr>\n",
       "    <tr>\n",
       "      <th>6729395</th>\n",
       "      <td>winterbanyan</td>\n",
       "      <td>922515656817434624</td>\n",
       "      <td>21</td>\n",
       "      <td>0</td>\n",
       "    </tr>\n",
       "    <tr>\n",
       "      <th>6729396</th>\n",
       "      <td>Nicolasgwet</td>\n",
       "      <td>922515658209980419</td>\n",
       "      <td>17</td>\n",
       "      <td>0</td>\n",
       "    </tr>\n",
       "    <tr>\n",
       "      <th>6729397</th>\n",
       "      <td>incognito998</td>\n",
       "      <td>922515649204699137</td>\n",
       "      <td>118</td>\n",
       "      <td>0</td>\n",
       "    </tr>\n",
       "  </tbody>\n",
       "</table>\n",
       "<p>6729398 rows × 4 columns</p>\n",
       "</div>"
      ],
      "text/plain": [
       "              username            tweet_id  retweet_count  like_count\n",
       "0           MomMomHolt  951215126044205056             23           0\n",
       "1             zkisor14  951215320831811584              0           0\n",
       "2         NeroliRoocke  951215148739391488            256           0\n",
       "3        therockyfiles  951215238128504841              0           0\n",
       "4            JillK1964  951215308026638343            421           0\n",
       "...                ...                 ...            ...         ...\n",
       "6729393   EricaDoporto  922515695526653952            354           0\n",
       "6729394        5_2blue  922515693840556032             10           8\n",
       "6729395   winterbanyan  922515656817434624             21           0\n",
       "6729396    Nicolasgwet  922515658209980419             17           0\n",
       "6729397   incognito998  922515649204699137            118           0\n",
       "\n",
       "[6729398 rows x 4 columns]"
      ]
     },
     "execution_count": 9,
     "metadata": {},
     "output_type": "execute_result"
    }
   ],
   "source": [
    "pdtweet"
   ]
  },
  {
   "cell_type": "code",
   "execution_count": null,
   "id": "capital-officer",
   "metadata": {},
   "outputs": [],
   "source": []
  }
 ],
 "metadata": {
  "kernelspec": {
   "display_name": "Python 3",
   "language": "python",
   "name": "python3"
  },
  "language_info": {
   "codemirror_mode": {
    "name": "ipython",
    "version": 3
   },
   "file_extension": ".py",
   "mimetype": "text/x-python",
   "name": "python",
   "nbconvert_exporter": "python",
   "pygments_lexer": "ipython3",
   "version": "3.8.8"
  }
 },
 "nbformat": 4,
 "nbformat_minor": 5
}
